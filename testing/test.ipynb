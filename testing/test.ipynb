{
 "cells": [
  {
   "cell_type": "code",
   "execution_count": 1,
   "metadata": {},
   "outputs": [],
   "source": [
    "import sys\n",
    "sys.path.append(\"../\")\n",
    "\n",
    "from infra import *\n",
    "from eval import *\n",
    "from scheds import *\n",
    "\n",
    "from contextlib import redirect_stdout"
   ]
  },
  {
   "cell_type": "code",
   "execution_count": 2,
   "metadata": {},
   "outputs": [],
   "source": [
    "def get_tot_lat(fname):\n",
    "  with open(fname, \"r\") as f:\n",
    "    tot_lat = 0\n",
    "    for row in f:\n",
    "      row = row.split(\" \")\n",
    "      if len(row) != 3 or not row[0].startswith(\"Latency\"):\n",
    "        print(\"error line\", row)\n",
    "        continue\n",
    "      tot_lat += int(row[-1])\n",
    "\n",
    "  return tot_lat"
   ]
  },
  {
   "cell_type": "code",
   "execution_count": 5,
   "metadata": {},
   "outputs": [
    {
     "name": "stdout",
     "output_type": "stream",
     "text": [
      "\n",
      "Load 200000\n",
      "431373084 432549533 426517760 427011038 430977713 431743339 428451136 427461071 426765597 429936127 \n",
      "Load 400000\n",
      "1919252715 "
     ]
    },
    {
     "ename": "KeyboardInterrupt",
     "evalue": "",
     "output_type": "error",
     "traceback": [
      "\u001b[0;31m---------------------------------------------------------------------------\u001b[0m",
      "\u001b[0;31mKeyboardInterrupt\u001b[0m                         Traceback (most recent call last)",
      "Cell \u001b[0;32mIn[5], line 21\u001b[0m\n\u001b[1;32m     19\u001b[0m \u001b[38;5;28;01mwith\u001b[39;00m \u001b[38;5;28mopen\u001b[39m(full_fname, \u001b[38;5;124m\"\u001b[39m\u001b[38;5;124mw+\u001b[39m\u001b[38;5;124m\"\u001b[39m) \u001b[38;5;28;01mas\u001b[39;00m f:\n\u001b[1;32m     20\u001b[0m     \u001b[38;5;28;01mwith\u001b[39;00m redirect_stdout(f):\n\u001b[0;32m---> 21\u001b[0m         \u001b[43mrun_test\u001b[49m\u001b[43m(\u001b[49m\n\u001b[1;32m     22\u001b[0m \u001b[43m            \u001b[49m\u001b[43mscheduler\u001b[49m\u001b[38;5;241;43m=\u001b[39;49m\u001b[43mEPVMScheduler\u001b[49m\u001b[43m,\u001b[49m\n\u001b[1;32m     23\u001b[0m \u001b[43m            \u001b[49m\u001b[43mload\u001b[49m\u001b[38;5;241;43m=\u001b[39;49m\u001b[38;5;28;43mint\u001b[39;49m\u001b[43m(\u001b[49m\u001b[38;5;28;43mfloat\u001b[39;49m\u001b[43m(\u001b[49m\u001b[43mload\u001b[49m\u001b[43m)\u001b[49m\u001b[43m)\u001b[49m\u001b[43m,\u001b[49m\n\u001b[1;32m     24\u001b[0m \u001b[43m            \u001b[49m\u001b[43mmachine_config\u001b[49m\u001b[38;5;241;43m=\u001b[39;49m\u001b[43mmach_config\u001b[49m\u001b[43m,\u001b[49m\n\u001b[1;32m     25\u001b[0m \u001b[43m            \u001b[49m\u001b[43mtotal_steps\u001b[49m\u001b[38;5;241;43m=\u001b[39;49m\u001b[38;5;28;43mint\u001b[39;49m\u001b[43m(\u001b[49m\u001b[38;5;28;43mfloat\u001b[39;49m\u001b[43m(\u001b[49m\u001b[43mtotal_steps\u001b[49m\u001b[43m)\u001b[49m\u001b[43m)\u001b[49m\n\u001b[1;32m     26\u001b[0m \u001b[43m        \u001b[49m\u001b[43m)\u001b[49m\n\u001b[1;32m     28\u001b[0m \u001b[38;5;66;03m# print(full_fname)\u001b[39;00m\n\u001b[1;32m     29\u001b[0m \u001b[38;5;28mprint\u001b[39m(get_tot_lat(full_fname), end\u001b[38;5;241m=\u001b[39m\u001b[38;5;124m\"\u001b[39m\u001b[38;5;124m \u001b[39m\u001b[38;5;124m\"\u001b[39m)\n",
      "File \u001b[0;32m~/pacmon/testing/../eval.py:73\u001b[0m, in \u001b[0;36mrun_test\u001b[0;34m(load, machine_config, job_distr, workload_type, scheduler, total_steps)\u001b[0m\n\u001b[1;32m     70\u001b[0m \u001b[38;5;66;03m# check if we have unfinished jobs at the end - if so, keep running to finish them\u001b[39;00m\n\u001b[1;32m     71\u001b[0m \u001b[38;5;66;03m# print(\"Unfinished jobs, keep running\", file=sys.stderr)\u001b[39;00m\n\u001b[1;32m     72\u001b[0m \u001b[38;5;28;01mwhile\u001b[39;00m cell\u001b[38;5;241m.\u001b[39mis_inactive():\n\u001b[0;32m---> 73\u001b[0m   \u001b[43mcell\u001b[49m\u001b[38;5;241;43m.\u001b[39;49m\u001b[43mforward\u001b[49m\u001b[43m(\u001b[49m\u001b[43mi\u001b[49m\u001b[43m)\u001b[49m\n\u001b[1;32m     74\u001b[0m   i \u001b[38;5;241m+\u001b[39m\u001b[38;5;241m=\u001b[39m \u001b[38;5;241m1\u001b[39m\n",
      "File \u001b[0;32m~/pacmon/testing/../infra.py:94\u001b[0m, in \u001b[0;36mCell.forward\u001b[0;34m(self, t)\u001b[0m\n\u001b[1;32m     92\u001b[0m \u001b[38;5;28;01mdef\u001b[39;00m \u001b[38;5;21mforward\u001b[39m(\u001b[38;5;28mself\u001b[39m, t):\n\u001b[1;32m     93\u001b[0m   \u001b[38;5;66;03m# run scheduler - assign things to machines\u001b[39;00m\n\u001b[0;32m---> 94\u001b[0m   \u001b[38;5;28;43mself\u001b[39;49m\u001b[38;5;241;43m.\u001b[39;49m\u001b[43msched\u001b[49m\u001b[38;5;241;43m.\u001b[39;49m\u001b[43mforward\u001b[49m\u001b[43m(\u001b[49m\u001b[38;5;28;43mself\u001b[39;49m\u001b[38;5;241;43m.\u001b[39;49m\u001b[43mmachines\u001b[49m\u001b[43m,\u001b[49m\u001b[43m \u001b[49m\u001b[38;5;28;43mself\u001b[39;49m\u001b[38;5;241;43m.\u001b[39;49m\u001b[43msched_queue\u001b[49m\u001b[43m,\u001b[49m\u001b[43m \u001b[49m\u001b[43mt\u001b[49m\u001b[43m)\u001b[49m\n\u001b[1;32m     96\u001b[0m   \u001b[38;5;66;03m# Then run forward on each machine\u001b[39;00m\n\u001b[1;32m     97\u001b[0m   total_free \u001b[38;5;241m=\u001b[39m \u001b[38;5;241m0\u001b[39m\n",
      "File \u001b[0;32m~/pacmon/testing/../scheds.py:72\u001b[0m, in \u001b[0;36mEPVMScheduler.forward\u001b[0;34m(machines, sched_queue, time_step)\u001b[0m\n\u001b[1;32m     69\u001b[0m     \u001b[38;5;28;01mbreak\u001b[39;00m \u001b[38;5;66;03m# block on jobs that can't be fit\u001b[39;00m\n\u001b[1;32m     71\u001b[0m   machines[machine_pick]\u001b[38;5;241m.\u001b[39madd_job(job)\n\u001b[0;32m---> 72\u001b[0m   \u001b[43msched_queue\u001b[49m\u001b[38;5;241;43m.\u001b[39;49m\u001b[43mpop\u001b[49m\u001b[43m(\u001b[49m\u001b[38;5;241;43m0\u001b[39;49m\u001b[43m)\u001b[49m\n\u001b[1;32m     74\u001b[0m \u001b[38;5;66;03m# Reassignment logic\u001b[39;00m\n\u001b[1;32m     75\u001b[0m \u001b[38;5;28;01mif\u001b[39;00m time_step \u001b[38;5;129;01mis\u001b[39;00m \u001b[38;5;129;01mnot\u001b[39;00m \u001b[38;5;28;01mNone\u001b[39;00m \u001b[38;5;129;01mand\u001b[39;00m time_step \u001b[38;5;241m%\u001b[39m \u001b[38;5;241m50\u001b[39m \u001b[38;5;241m!=\u001b[39m \u001b[38;5;241m0\u001b[39m:\n",
      "\u001b[0;31mKeyboardInterrupt\u001b[0m: "
     ]
    }
   ],
   "source": [
    "\n",
    "# NAMING CONVENTION:\n",
    "# {workload type}-load-{load}-{total_steps}\n",
    "\n",
    "loads = [200_000, 400_000, 800_000, 1_000_000]\n",
    "# loads = [10]\n",
    "for load in loads:\n",
    "    print(\"\\nLoad\", load)\n",
    "    for _ in range(10):\n",
    "        workload_type = \"unif\"\n",
    "        sched = \"epvm\"\n",
    "        # note: these are strings just so naming is easier\n",
    "        load = str(load)\n",
    "        total_steps = \"1000\"\n",
    "        mach_config = \"../config/mach-100.txt\"\n",
    "\n",
    "        fname = f\"{workload_type}-load-{load}-{total_steps}-{sched}\"\n",
    "        full_fname = f\"./data/{fname}.txt\"\n",
    "\n",
    "        with open(full_fname, \"w+\") as f:\n",
    "            with redirect_stdout(f):\n",
    "                run_test(\n",
    "                    scheduler=EPVMScheduler,\n",
    "                    load=int(float(load)),\n",
    "                    machine_config=mach_config,\n",
    "                    total_steps=int(float(total_steps))\n",
    "                )\n",
    "\n",
    "        # print(full_fname)\n",
    "        print(get_tot_lat(full_fname), end=\" \")"
   ]
  },
  {
   "cell_type": "code",
   "execution_count": 4,
   "metadata": {},
   "outputs": [],
   "source": [
    "\n",
    "# Load 1000\n",
    "# 4334 4953 4731 4525 4565 4505 4767 4727 4389 4737 \n",
    "# Load 10000\n",
    "# 94452 93680 94114 94613 94031 94669 93894 94491 95148 94532 \n",
    "# Load 20000\n",
    "# 195729 195072 196476 196919 196101 195209 195712 195083 195555 196152 \n",
    "# Load 25000\n",
    "# 248004 247115 247239 247375 247617 247288 246753 246820 247574 246869 \n",
    "# Load 30000\n",
    "# 296586 297529 298517 297273 297374 298228 297438 297204 298696 297751 \n",
    "# Load 35000\n",
    "# 356522 362455 359978 365341 356912 357138 358438 349857 355612 356768 \n",
    "# Load 40000\n",
    "# 1579652 1746805 1394338 1655388 1499408 1176310 1401651 1491988 1400216 1419735 \n",
    "# Load 50000\n",
    "# 7636869 7591188 8357319 8468802 8013263 7672424 8035607 8268824 7432819 7829431 \n",
    "# Load 100000\n",
    "# 78370092 82782828 81399378 82500016 78845813 81356750 79888299 81283631 80760513 80655634 "
   ]
  }
 ],
 "metadata": {
  "kernelspec": {
   "display_name": "Python 3",
   "language": "python",
   "name": "python3"
  },
  "language_info": {
   "codemirror_mode": {
    "name": "ipython",
    "version": 3
   },
   "file_extension": ".py",
   "mimetype": "text/x-python",
   "name": "python",
   "nbconvert_exporter": "python",
   "pygments_lexer": "ipython3",
   "version": "3.10.10"
  }
 },
 "nbformat": 4,
 "nbformat_minor": 2
}
