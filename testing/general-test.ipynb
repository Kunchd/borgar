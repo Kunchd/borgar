{
 "cells": [
  {
   "cell_type": "code",
   "execution_count": 1,
   "metadata": {},
   "outputs": [],
   "source": [
    "import sys\n",
    "sys.path.append(\"../\")\n",
    "\n",
    "from infra import *\n",
    "from eval import *\n",
    "from scheds import *\n",
    "\n",
    "from contextlib import redirect_stdout"
   ]
  },
  {
   "cell_type": "code",
   "execution_count": 2,
   "metadata": {},
   "outputs": [],
   "source": [
    "def get_tot_lat(fname):\n",
    "  with open(fname, \"r\") as f:\n",
    "    tot_lat = 0\n",
    "    for row in f:\n",
    "      row = row.split(\" \")\n",
    "      if len(row) != 3 or not row[0].startswith(\"Latency\"):\n",
    "        print(\"error line\", row)\n",
    "        continue\n",
    "      tot_lat += int(row[-1])\n",
    "\n",
    "  return tot_lat"
   ]
  },
  {
   "cell_type": "code",
   "execution_count": 3,
   "metadata": {},
   "outputs": [
    {
     "name": "stdout",
     "output_type": "stream",
     "text": [
      "\n",
      "Load 10\n",
      "51 49 62 49 48 26 48 26 26 25 \n",
      "Load 100\n",
      "365 341 410 365 412 347 400 399 360 417 \n",
      "Load 1000\n",
      "8334 8373 8324 8362 8340 8433 8556 8380 8398 8234 \n",
      "Load 10000\n",
      "92896 93084 93296 93010 93273 92947 93393 93003 93408 92857 \n",
      "Load 20000\n",
      "188460 189364 189195 190043 189082 189038 188698 188891 189139 189081 \n",
      "Load 25000\n",
      "237961 239089 237893 239051 239215 238654 237579 238887 239063 237724 \n",
      "Load 30000\n",
      "289041 288394 286966 287695 288079 288672 288813 288651 287379 289294 \n",
      "Load 35000\n",
      "340593 340356 340688 341358 341022 341214 342222 341060 340343 342119 \n",
      "Load 40000\n",
      "731856 433172 418981 410454 435076 609394 487284 483314 486318 474356 \n",
      "Load 50000\n",
      "5764365 5970111 5493174 6115232 5599887 6876894 5730413 6573997 5885127 6657550 \n",
      "Load 100000\n",
      "71979259 71060402 72309287 74274354 72965492 73111232 74443285 73381859 71877655 74798928 \n",
      "Load 200000\n",
      "388552360 390199636 391381135 391165511 386692049 390410202 386001740 392839889 389960979 388065005 "
     ]
    }
   ],
   "source": [
    "\n",
    "# NAMING CONVENTION:\n",
    "# {workload type}-load-{load}-{total_steps}\n",
    "\n",
    "loads = [10, 100, 1000, 10000, 20000, 25000, 30000, 35000, 40000, 50000, 100000, 200000]\n",
    "# loads = [10]\n",
    "for load in loads:\n",
    "    print(\"\\nLoad\", load)\n",
    "    for _ in range(10):\n",
    "        workload_type = \"unif\"\n",
    "        sched = \"bf\"\n",
    "        # note: these are strings just so naming is easier\n",
    "        load = str(load)\n",
    "        total_steps = \"1000\"\n",
    "        mach_config = \"../config/mach-100.txt\"\n",
    "\n",
    "        fname = f\"{workload_type}-load-{load}-{total_steps}-{sched}\"\n",
    "        full_fname = f\"./data/{fname}.txt\"\n",
    "\n",
    "        with open(full_fname, \"w+\") as f:\n",
    "            with redirect_stdout(f):\n",
    "                run_test(\n",
    "                    scheduler=BestFitScheduler,\n",
    "                    load=int(float(load)),\n",
    "                    machine_config=mach_config,\n",
    "                    total_steps=int(float(total_steps))\n",
    "                )\n",
    "\n",
    "        # print(full_fname)\n",
    "        print(get_tot_lat(full_fname), end=\" \")"
   ]
  },
  {
   "cell_type": "code",
   "execution_count": 4,
   "metadata": {},
   "outputs": [],
   "source": [
    "\n",
    "# Load 1000\n",
    "# 4334 4953 4731 4525 4565 4505 4767 4727 4389 4737\n",
    "# Load 10000\n",
    "# 94452 93680 94114 94613 94031 94669 93894 94491 95148 94532\n",
    "# Load 20000\n",
    "# 195729 195072 196476 196919 196101 195209 195712 195083 195555 196152\n",
    "# Load 25000\n",
    "# 248004 247115 247239 247375 247617 247288 246753 246820 247574 246869\n",
    "# Load 30000\n",
    "# 296586 297529 298517 297273 297374 298228 297438 297204 298696 297751\n",
    "# Load 35000\n",
    "# 356522 362455 359978 365341 356912 357138 358438 349857 355612 356768\n",
    "# Load 40000\n",
    "# 1579652 1746805 1394338 1655388 1499408 1176310 1401651 1491988 1400216 1419735\n",
    "# Load 50000\n",
    "# 7636869 7591188 8357319 8468802 8013263 7672424 8035607 8268824 7432819 7829431\n",
    "# Load 100000\n",
    "# 78370092 82782828 81399378 82500016 78845813 81356750 79888299 81283631 80760513 80655634"
   ]
  }
 ],
 "metadata": {
  "kernelspec": {
   "display_name": "Python 3",
   "language": "python",
   "name": "python3"
  },
  "language_info": {
   "codemirror_mode": {
    "name": "ipython",
    "version": 3
   },
   "file_extension": ".py",
   "mimetype": "text/x-python",
   "name": "python",
   "nbconvert_exporter": "python",
   "pygments_lexer": "ipython3",
   "version": "3.10.10"
  }
 },
 "nbformat": 4,
 "nbformat_minor": 2
}
