{
 "cells": [
  {
   "cell_type": "code",
   "execution_count": 1,
   "metadata": {},
   "outputs": [],
   "source": [
    "import sys\n",
    "sys.path.append(\"../\")\n",
    "\n",
    "from infra import *\n",
    "from eval import *\n",
    "from scheds import *\n",
    "\n",
    "from contextlib import redirect_stdout"
   ]
  },
  {
   "cell_type": "code",
   "execution_count": 2,
   "metadata": {},
   "outputs": [],
   "source": [
    "def get_tot_lat(fname):\n",
    "  with open(fname, \"r\") as f:\n",
    "    tot_lat = 0\n",
    "    for row in f:\n",
    "      row = row.split(\" \")\n",
    "      if len(row) != 3 or not row[0].startswith(\"Latency\"):\n",
    "        print(\"error line\", row)\n",
    "        continue\n",
    "      tot_lat += int(row[-1])\n",
    "\n",
    "  return tot_lat"
   ]
  },
  {
   "cell_type": "markdown",
   "metadata": {},
   "source": [
    "## Uniform Testing"
   ]
  },
  {
   "cell_type": "code",
   "execution_count": 3,
   "metadata": {},
   "outputs": [],
   "source": [
    "# NAMING CONVENTION:\n",
    "# {workload type}-load-{load}-{total_steps}\n",
    "\n",
    "loads = [10, 100, 1000, 10000, 20000, 25000, 30000, 35000, 40000, 50000, 100000, 200000, 400000]\n",
    "# loads = [10]\n",
    "for load in loads:\n",
    "    print(\"\\nLoad\", load)\n",
    "    for _ in range(10):\n",
    "        workload_type = \"unif\"\n",
    "        sched = \"naive\" # naive, bf, epvm\n",
    "        # note: these are strings just so naming is easier\n",
    "        load = str(load)\n",
    "        total_steps = \"1000\"\n",
    "        mach_config = \"../mach-config/mach-100.txt\"\n",
    "\n",
    "        fname = f\"{workload_type}-load-{load}-{total_steps}-{sched}\"\n",
    "        full_fname = f\"./data/{fname}.txt\"\n",
    "\n",
    "        with open(full_fname, \"w+\") as f:\n",
    "            with redirect_stdout(f):\n",
    "                run_test(\n",
    "                    workload_type=workload_type,\n",
    "                    scheduler=NaiveScheduler,\n",
    "                    load=int(float(load)),\n",
    "                    machine_config=mach_config,\n",
    "                    total_steps=int(float(total_steps))\n",
    "                )\n",
    "\n",
    "        # print(full_fname)\n",
    "        print(get_tot_lat(full_fname), end=\" \")"
   ]
  },
  {
   "cell_type": "markdown",
   "metadata": {},
   "source": [
    "## Bursty Testing"
   ]
  },
  {
   "cell_type": "code",
   "execution_count": 4,
   "metadata": {},
   "outputs": [
    {
     "name": "stdout",
     "output_type": "stream",
     "text": [
      "\n",
      "Load 10\n",
      "11 46 24 19 10 10 9 9 23 10 \n",
      "Load 100\n",
      "811 774 788 790 776 756 776 818 803 813 \n",
      "Load 1000\n",
      "9216 9370 9248 9323 9261 9210 9202 9148 9061 9226 \n",
      "Load 10000\n",
      "196016 147855 137143 154117 175168 151332 196060 140038 215599 157994 \n",
      "Load 20000\n",
      "857547 655801 493274 773436 804304 608550 1527522 695907 872013 900035 \n",
      "Load 25000\n",
      "1616424 1269285 780848 1420709 1258900 974012 3134778 1167988 1432535 1752204 \n",
      "Load 30000\n",
      "3010008 2347032 1126201 2354784 2098082 1517854 5389921 1799001 2344137 3373724 \n",
      "Load 35000\n",
      "4471484 3726248 1947627 4398000 2837289 2979701 8054398 2936545 3585906 5427926 \n",
      "Load 40000\n",
      "6841294 5911333 3481174 7943238 4189606 4874121 11367752 4599125 5583986 7645949 \n",
      "Load 50000\n",
      "15122186 12310371 8735948 15098495 10476132 11603606 19451599 8930904 11844663 13840661 \n",
      "Load 100000\n",
      "90138571 83479884 80842320 88704387 81572625 79684547 90012094 71343561 77387877 82115987 \n",
      "Load 200000\n",
      "423464091 393550082 401733677 408236212 409144968 403192589 408722162 384189476 393590659 408053102 \n",
      "Load 400000\n",
      "1826245275 1743304959 1790507018 1735484278 1788224043 1785704637 1765333167 1763356906 1750001603 1781677664 "
     ]
    }
   ],
   "source": [
    "# NAMING CONVENTION:\n",
    "# {workload type}-load-{load}-{total_steps}\n",
    "\n",
    "loads = [10, 100, 1000, 10000, 20000, 25000, 30000, 35000, 40000, 50000, 100000, 200000, 400000]\n",
    "for load in loads:\n",
    "    print(\"\\nLoad\", load)\n",
    "    for i in range(10):\n",
    "        workload_type = \"bursty\"\n",
    "\n",
    "        sched = \"bf\" # naive, bf, epvm\n",
    "        # note: these are strings just so naming is easier\n",
    "        load = str(load)\n",
    "        total_steps = \"1000\"\n",
    "\n",
    "        mach_config = \"../mach-config/mach-100.txt\"\n",
    "        workload_config = f\"../workload-config/bursty-{total_steps}-{i}.txt\"\n",
    "\n",
    "        fname = f\"{workload_type}-load-{load}-{total_steps}-{sched}\"\n",
    "        full_fname = f\"./data/{fname}.txt\"\n",
    "\n",
    "        with open(full_fname, \"w+\") as f:\n",
    "            with redirect_stdout(f):\n",
    "                run_test(\n",
    "                    workload_type=workload_type,\n",
    "                    workload_config=workload_config,\n",
    "                    scheduler=BestFitScheduler, # CHANGE THIS\n",
    "                    load=int(float(load)),\n",
    "                    machine_config=mach_config,\n",
    "                    total_steps=int(float(total_steps))\n",
    "                )\n",
    "\n",
    "        print(get_tot_lat(full_fname), end=\" \")"
   ]
  }
 ],
 "metadata": {
  "kernelspec": {
   "display_name": "Python 3",
   "language": "python",
   "name": "python3"
  },
  "language_info": {
   "codemirror_mode": {
    "name": "ipython",
    "version": 3
   },
   "file_extension": ".py",
   "mimetype": "text/x-python",
   "name": "python",
   "nbconvert_exporter": "python",
   "pygments_lexer": "ipython3",
   "version": "3.10.10"
  }
 },
 "nbformat": 4,
 "nbformat_minor": 2
}
