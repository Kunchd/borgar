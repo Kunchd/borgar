{
 "cells": [
  {
   "cell_type": "code",
   "execution_count": 1,
   "metadata": {},
   "outputs": [],
   "source": [
    "import sys\n",
    "sys.path.append(\"../\")\n",
    "\n",
    "from infra import *\n",
    "from eval import *\n",
    "from scheds import *\n",
    "\n",
    "from contextlib import redirect_stdout"
   ]
  },
  {
   "cell_type": "code",
   "execution_count": 2,
   "metadata": {},
   "outputs": [],
   "source": [
    "def get_tot_lat(fname):\n",
    "  with open(fname, \"r\") as f:\n",
    "    tot_lat = 0\n",
    "    for row in f:\n",
    "      row = row.split(\" \")\n",
    "      if len(row) != 3 or not row[0].startswith(\"Latency\"):\n",
    "        print(\"error line\", row)\n",
    "        continue\n",
    "      tot_lat += int(row[-1])\n",
    "\n",
    "  return tot_lat"
   ]
  },
  {
   "cell_type": "markdown",
   "metadata": {},
   "source": [
    "## Uniform Testing"
   ]
  },
  {
   "cell_type": "code",
   "execution_count": 3,
   "metadata": {},
   "outputs": [],
   "source": [
    "# # NAMING CONVENTION:\n",
    "# # {workload type}-load-{load}-{total_steps}\n",
    "\n",
    "# loads = [10, 100, 1000, 10000, 20000, 25000, 30000, 35000, 40000, 50000, 100000, 200000, 400000]\n",
    "# # loads = [10]\n",
    "# for load in loads:\n",
    "#     print(\"\\nLoad\", load)\n",
    "#     for _ in range(10):\n",
    "#         workload_type = \"unif\"\n",
    "#         sched = \"naive\" # naive, bf, epvm\n",
    "#         # note: these are strings just so naming is easier\n",
    "#         load = str(load)\n",
    "#         total_steps = \"1000\"\n",
    "#         mach_config = \"../mach-config/mach-100.txt\"\n",
    "\n",
    "#         fname = f\"{workload_type}-load-{load}-{total_steps}-{sched}\"\n",
    "#         full_fname = f\"./data/{fname}.txt\"\n",
    "\n",
    "#         with open(full_fname, \"w+\") as f:\n",
    "#             with redirect_stdout(f):\n",
    "#                 run_test(\n",
    "#                     workload_type=workload_type,\n",
    "#                     scheduler=NaiveScheduler,\n",
    "#                     load=int(float(load)),\n",
    "#                     machine_config=mach_config,\n",
    "#                     total_steps=int(float(total_steps))\n",
    "#                 )\n",
    "\n",
    "#         # print(full_fname)\n",
    "#         print(get_tot_lat(full_fname), end=\" \")"
   ]
  },
  {
   "cell_type": "markdown",
   "metadata": {},
   "source": [
    "## Bursty Testing"
   ]
  },
  {
   "cell_type": "code",
   "execution_count": 4,
   "metadata": {},
   "outputs": [
    {
     "name": "stdout",
     "output_type": "stream",
     "text": [
      "\n",
      "Load 10\n",
      "4 4 4 18 18 18 16 4 4 4 \n",
      "Load 100\n",
      "508 548 492 476 559 515 480 506 517 503 \n",
      "Load 1000\n",
      "9219 9229 9298 9316 9392 9085 9228 9462 9222 9263 \n",
      "Load 10000\n",
      "202247 144185 135026 160656 183458 150138 223350 143202 213270 151147 \n",
      "Load 20000\n",
      "910260 728214 510853 798523 855713 610683 1622911 653105 972137 964395 \n",
      "Load 25000\n",
      "1977414 1450465 807472 1531464 1382709 993686 3558881 1287905 1622454 1979668 \n",
      "Load 30000\n",
      "3297847 2675761 1281030 2820880 2082131 1856896 5887480 2014564 2594266 3789273 \n",
      "Load 35000\n",
      "4994978 4456226 2167364 4784078 3032616 3371490 8496457 3018896 3999915 5669970 \n",
      "Load 40000\n",
      "7886914 6808694 4597220 8377040 4865048 6048924 12654922 5320742 6459632 8300310 \n",
      "Load 50000\n",
      "16204712 14438408 12084726 16336674 13131913 12019293 20706369 9715020 12897316 14875422 \n",
      "Load 100000\n",
      "99014662 89552135 85935611 96348027 89894774 86645525 96802443 80196768 82285759 87071479 \n",
      "Load 200000\n",
      "450483908 425540168 439487881 437686500 442235867 434208717 439907559 424265786 421887639 440332628 \n",
      "Load 400000\n",
      "1945960965 1861231634 1914286338 1860805211 1922602850 1907548356 1910325739 1884567072 1889376030 1917438539 "
     ]
    }
   ],
   "source": [
    "# NAMING CONVENTION:\n",
    "# {workload type}-load-{load}-{total_steps}\n",
    "\n",
    "loads = [10, 100, 1000, 10000, 20000, 25000, 30000, 35000, 40000, 50000, 100000, 200000, 400000]\n",
    "for load in loads:\n",
    "    print(\"\\nLoad\", load)\n",
    "    for i in range(10):\n",
    "        workload_type = \"bursty\"\n",
    "\n",
    "        sched = \"naive\" # naive, bf, epvm\n",
    "        # note: these are strings just so naming is easier\n",
    "        load = str(load)\n",
    "        total_steps = \"1000\"\n",
    "\n",
    "        mach_config = \"../mach-config/mach-100.txt\"\n",
    "        workload_config = f\"../workload-config/bursty-{total_steps}-{i}.txt\"\n",
    "\n",
    "        fname = f\"{workload_type}-load-{load}-{total_steps}-{sched}\"\n",
    "        full_fname = f\"./data/{fname}.txt\"\n",
    "\n",
    "        with open(full_fname, \"w+\") as f:\n",
    "            with redirect_stdout(f):\n",
    "                run_test(\n",
    "                    workload_type=workload_type,\n",
    "                    workload_config=workload_config,\n",
    "                    scheduler=NaiveScheduler,\n",
    "                    load=int(float(load)),\n",
    "                    machine_config=mach_config,\n",
    "                    total_steps=int(float(total_steps))\n",
    "                )\n",
    "\n",
    "        print(get_tot_lat(full_fname), end=\" \")"
   ]
  }
 ],
 "metadata": {
  "kernelspec": {
   "display_name": "Python 3",
   "language": "python",
   "name": "python3"
  },
  "language_info": {
   "codemirror_mode": {
    "name": "ipython",
    "version": 3
   },
   "file_extension": ".py",
   "mimetype": "text/x-python",
   "name": "python",
   "nbconvert_exporter": "python",
   "pygments_lexer": "ipython3",
   "version": "3.10.10"
  }
 },
 "nbformat": 4,
 "nbformat_minor": 2
}
