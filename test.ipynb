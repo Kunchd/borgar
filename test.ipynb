{
 "cells": [
  {
   "cell_type": "code",
   "execution_count": 1,
   "metadata": {},
   "outputs": [],
   "source": [
    "from infra import *\n",
    "from eval import *\n",
    "from scheds import *\n",
    "\n",
    "from contextlib import redirect_stdout"
   ]
  },
  {
   "cell_type": "code",
   "execution_count": 3,
   "metadata": {},
   "outputs": [
    {
     "name": "stderr",
     "output_type": "stream",
     "text": [
      "Unfinished jobs, keep running\n"
     ]
    }
   ],
   "source": [
    "# NAMING CONVENTION:\n",
    "# {workload type}-load-{load}-{total_steps}\n",
    "\n",
    "workload_type = \"unif\"\n",
    "load = int(1e4)\n",
    "total_steps = int(1e5)\n",
    "\n",
    "fname = f\"{workload_type}-load-{load}-{total_steps}\"\n",
    "\n",
    "with open(f\"./data/{fname}.txt\", \"w+\") as f:\n",
    "    with redirect_stdout(f):\n",
    "        run_test(scheduler=NaiveScheduler, load=load)"
   ]
  }
 ],
 "metadata": {
  "kernelspec": {
   "display_name": "Python 3",
   "language": "python",
   "name": "python3"
  },
  "language_info": {
   "codemirror_mode": {
    "name": "ipython",
    "version": 3
   },
   "file_extension": ".py",
   "mimetype": "text/x-python",
   "name": "python",
   "nbconvert_exporter": "python",
   "pygments_lexer": "ipython3",
   "version": "3.10.5"
  }
 },
 "nbformat": 4,
 "nbformat_minor": 2
}
