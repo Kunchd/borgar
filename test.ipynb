{
 "cells": [
  {
   "cell_type": "code",
   "execution_count": 1,
   "metadata": {},
   "outputs": [],
   "source": [
    "from infra import *"
   ]
  },
  {
   "cell_type": "code",
   "execution_count": 8,
   "metadata": {},
   "outputs": [
    {
     "name": "stdout",
     "output_type": "stream",
     "text": [
      "[Job 333: compute left=1, Job 444: compute left=10]\n",
      "deleted job\n",
      "[Job 444: compute left=8.5]\n",
      "[Job 444: compute left=5.5]\n"
     ]
    }
   ],
   "source": [
    "m = Machine(mem=10, cores=3)\n",
    "\n",
    "j = Job(333, mem=3, cores=1, compute=1)\n",
    "j2 = Job(444, mem=3, cores=1, compute=10)\n",
    "\n",
    "m.add_job(j)\n",
    "m.add_job(j2)\n",
    "\n",
    "print(m.jobs)\n",
    "m.forward()\n",
    "print(m.jobs)\n",
    "m.forward()\n",
    "print(m.jobs)"
   ]
  }
 ],
 "metadata": {
  "kernelspec": {
   "display_name": "Python 3",
   "language": "python",
   "name": "python3"
  },
  "language_info": {
   "codemirror_mode": {
    "name": "ipython",
    "version": 3
   },
   "file_extension": ".py",
   "mimetype": "text/x-python",
   "name": "python",
   "nbconvert_exporter": "python",
   "pygments_lexer": "ipython3",
   "version": "3.10.5"
  }
 },
 "nbformat": 4,
 "nbformat_minor": 2
}
