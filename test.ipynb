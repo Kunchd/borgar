{
 "cells": [
  {
   "cell_type": "code",
   "execution_count": 1,
   "metadata": {},
   "outputs": [],
   "source": [
    "from infra import *\n",
    "from eval import *\n",
    "from scheds import *\n",
    "\n",
    "from contextlib import redirect_stdout"
   ]
  },
  {
   "cell_type": "code",
   "execution_count": 2,
   "metadata": {},
   "outputs": [],
   "source": [
    "def get_tot_lat(fname):\n",
    "  with open(fname, \"r\") as f:\n",
    "    tot_lat = 0\n",
    "    for row in f:\n",
    "      row = row.split(\" \")\n",
    "      if len(row) != 3 or not row[0].startswith(\"Latency\"):\n",
    "        print(\"error line\", row)\n",
    "        continue\n",
    "      tot_lat += int(row[-1])\n",
    "\n",
    "  return tot_lat"
   ]
  },
  {
   "cell_type": "code",
   "execution_count": 14,
   "metadata": {},
   "outputs": [
    {
     "name": "stdout",
     "output_type": "stream",
     "text": [
      "\n",
      "Load 250000\n",
      "2536749679 2539127803 2519851341 2535019366 2552312594 2511745157 2521275371 2529843178 2526479390 2526901449 "
     ]
    }
   ],
   "source": [
    "\n",
    "# NAMING CONVENTION:\n",
    "# {workload type}-load-{load}-{total_steps}\n",
    "\n",
    "loads = [250000]\n",
    "for load in loads:\n",
    "    print(\"\\nLoad\", load)\n",
    "    for _ in range(10):\n",
    "        workload_type = \"unif\"\n",
    "        sched = \"bestfit\"\n",
    "        # note: these are strings just so naming is easier\n",
    "        load = str(load)\n",
    "        total_steps = \"1000\"\n",
    "        mach_config = \"./config/mach-100.txt\"\n",
    "\n",
    "        fname = f\"{workload_type}-load-{load}-{total_steps}-{sched}\"\n",
    "        full_fname = f\"./data/{fname}.txt\"\n",
    "\n",
    "        with open(full_fname, \"w+\") as f:\n",
    "            with redirect_stdout(f):\n",
    "                run_test(\n",
    "                    scheduler=BestFitScheduler,\n",
    "                    load=int(float(load)),\n",
    "                    machine_config=mach_config,\n",
    "                    total_steps=int(float(total_steps))\n",
    "                )\n",
    "\n",
    "        # print(full_fname)\n",
    "        print(get_tot_lat(full_fname), end=\" \")"
   ]
  },
  {
   "cell_type": "code",
   "execution_count": 4,
   "metadata": {},
   "outputs": [],
   "source": [
    "# import glob\n",
    "\n",
    "# tests = glob.glob(\"./data/*.txt\")\n",
    "# for test in tests:\n",
    "#   print(test)\n",
    "#   print(get_tot_lat(test))"
   ]
  }
 ],
 "metadata": {
  "kernelspec": {
   "display_name": "Python 3",
   "language": "python",
   "name": "python3"
  },
  "language_info": {
   "codemirror_mode": {
    "name": "ipython",
    "version": 3
   },
   "file_extension": ".py",
   "mimetype": "text/x-python",
   "name": "python",
   "nbconvert_exporter": "python",
   "pygments_lexer": "ipython3",
   "version": "3.10.5"
  }
 },
 "nbformat": 4,
 "nbformat_minor": 2
}
