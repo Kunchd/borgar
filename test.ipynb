{
 "cells": [
  {
   "cell_type": "code",
   "execution_count": 1,
   "metadata": {},
   "outputs": [],
   "source": [
    "from infra import *\n",
    "from eval import *\n",
    "from scheds import *\n",
    "\n",
    "from contextlib import redirect_stdout"
   ]
  },
  {
   "cell_type": "code",
   "execution_count": 2,
   "metadata": {},
   "outputs": [
    {
     "name": "stdout",
     "output_type": "stream",
     "text": [
      "init\n",
      "-----------Cell-----------\n",
      "Machines: [\n",
      "Machine: [cores free: 4, mem_free: 6]\n",
      "Jobs: []\n",
      ", \n",
      "Machine: [cores free: 4, mem_free: 6]\n",
      "Jobs: []\n",
      ", \n",
      "Machine: [cores free: 12, mem_free: 64]\n",
      "Jobs: []\n",
      "]sche queue: [Job 0: compute left=5, cores: 1, Job 1: compute left=5, cores: 1, Job 2: compute left=5, cores: 1, Job 3: compute left=5, cores: 1, Job 4: compute left=5, cores: 1, Job 5: compute left=5, cores: 1, Job 6: compute left=5, cores: 1, Job 7: compute left=5, cores: 1, Job 8: compute left=5, cores: 1, Job 9: compute left=5, cores: 1]\n",
      "--------------------------\n",
      "\n",
      "Iter 0\n",
      "-----------Cell-----------\n",
      "Machines: [\n",
      "Machine: [cores free: 2, mem_free: 4]\n",
      "Jobs: [Job 2: compute left=3.0, cores: 1, Job 7: compute left=3.0, cores: 1]\n",
      ", \n",
      "Machine: [cores free: 2, mem_free: 4]\n",
      "Jobs: [Job 3: compute left=3.0, cores: 1, Job 8: compute left=3.0, cores: 1]\n",
      ", \n",
      "Machine: [cores free: 6, mem_free: 58]\n",
      "Jobs: [Job 0: compute left=3.0, cores: 1, Job 1: compute left=3.0, cores: 1, Job 4: compute left=3.0, cores: 1, Job 5: compute left=3.0, cores: 1, Job 6: compute left=3.0, cores: 1, Job 9: compute left=3.0, cores: 1]\n",
      "]sche queue: []\n",
      "--------------------------\n",
      "\n",
      "Iter 1\n",
      "-----------Cell-----------\n",
      "Machines: [\n",
      "Machine: [cores free: 2, mem_free: 4]\n",
      "Jobs: [Job 2: compute left=1.0, cores: 1, Job 7: compute left=1.0, cores: 1]\n",
      ", \n",
      "Machine: [cores free: 2, mem_free: 4]\n",
      "Jobs: [Job 3: compute left=1.0, cores: 1, Job 8: compute left=1.0, cores: 1]\n",
      ", \n",
      "Machine: [cores free: 6, mem_free: 58]\n",
      "Jobs: [Job 0: compute left=1.0, cores: 1, Job 1: compute left=1.0, cores: 1, Job 4: compute left=1.0, cores: 1, Job 5: compute left=1.0, cores: 1, Job 6: compute left=1.0, cores: 1, Job 9: compute left=1.0, cores: 1]\n",
      "]sche queue: []\n",
      "--------------------------\n",
      "\n",
      "Latency 7: 3\n",
      "Latency 2: 3\n",
      "Latency 8: 3\n",
      "Latency 3: 3\n",
      "Latency 9: 3\n",
      "Latency 6: 3\n",
      "Latency 5: 3\n",
      "Latency 4: 3\n",
      "Latency 1: 3\n",
      "Latency 0: 3\n",
      "Iter 2\n",
      "-----------Cell-----------\n",
      "Machines: [\n",
      "Machine: [cores free: 4, mem_free: 6]\n",
      "Jobs: []\n",
      ", \n",
      "Machine: [cores free: 4, mem_free: 6]\n",
      "Jobs: []\n",
      ", \n",
      "Machine: [cores free: 12, mem_free: 64]\n",
      "Jobs: []\n",
      "]sche queue: []\n",
      "--------------------------\n"
     ]
    }
   ],
   "source": [
    "# Test basic functionality\n",
    "test_cell = Cell(EPVMScheduler)\n",
    "\n",
    "test_cell.add_machine(Machine(6, 4))\n",
    "test_cell.add_machine(Machine(6, 4))\n",
    "test_cell.add_machine(Machine(64, 12))\n",
    "\n",
    "for i in range(10):\n",
    "    test_cell.queue_job(Job(f\"{i}\", 1, 1, 5, 0))\n",
    "\n",
    "\n",
    "def print_machines(cell):\n",
    "    for m in cell.machines:\n",
    "        print(m)\n",
    "\n",
    "print(\"init\")\n",
    "print(test_cell)\n",
    "print()\n",
    "test_cell.forward(0)\n",
    "print(\"Iter 0\")\n",
    "print(test_cell)\n",
    "print()\n",
    "test_cell.forward(1)\n",
    "print(\"Iter 1\")\n",
    "print(test_cell)\n",
    "print()\n",
    "test_cell.forward(2)\n",
    "print(\"Iter 2\")\n",
    "print(test_cell)"
   ]
  },
  {
   "cell_type": "code",
   "execution_count": 3,
   "metadata": {},
   "outputs": [],
   "source": [
    "def get_tot_lat(fname):\n",
    "  with open(fname, \"r\") as f:\n",
    "    tot_lat = 0\n",
    "    for row in f:\n",
    "      row = row.split(\" \")\n",
    "      if len(row) != 3 or not row[0].startswith(\"Latency\"):\n",
    "        print(\"error line\", row)\n",
    "        continue\n",
    "      tot_lat += int(row[-1])\n",
    "\n",
    "  return tot_lat"
   ]
  },
  {
   "cell_type": "code",
   "execution_count": 8,
   "metadata": {},
   "outputs": [
    {
     "name": "stdout",
     "output_type": "stream",
     "text": [
      "4532 4679 4950 4725 4992 4399 4075 4138 4258 4471 "
     ]
    }
   ],
   "source": [
    "\n",
    "# NAMING CONVENTION:\n",
    "# {workload type}-load-{load}-{total_steps}\n",
    "\n",
    "for _ in range(10):\n",
    "    workload_type = \"unif\"\n",
    "    # note: these are strings just so naming is easier\n",
    "    load = \"1000\"\n",
    "    total_steps = \"1000\"\n",
    "    mach_config = \"./config/mach-100.txt\"\n",
    "\n",
    "    fname = f\"{workload_type}-load-{load}-{total_steps}\"\n",
    "    full_fname = f\"./data/{fname}.txt\"\n",
    "\n",
    "    with open(full_fname, \"w+\") as f:\n",
    "        with redirect_stdout(f):\n",
    "            run_test(\n",
    "                scheduler=NaiveScheduler,\n",
    "                load=int(float(load)),\n",
    "                machine_config=mach_config,\n",
    "                total_steps=int(float(total_steps))\n",
    "            )\n",
    "\n",
    "    # print(full_fname)\n",
    "    print(get_tot_lat(full_fname), end=\" \")"
   ]
  },
  {
   "cell_type": "code",
   "execution_count": 5,
   "metadata": {},
   "outputs": [],
   "source": [
    "# import glob\n",
    "\n",
    "# Naive: 117449361 116545719 118897221 117829913 113912902 116900581 118457354 114904649 114668701 116788217 \n",
    "\n",
    "# tests = glob.glob(\"./data/*.txt\")\n",
    "# for test in tests:\n",
    "#   print(test)\n",
    "#   print(get_tot_lat(test))"
   ]
  }
 ],
 "metadata": {
  "kernelspec": {
   "display_name": "Python 3",
   "language": "python",
   "name": "python3"
  },
  "language_info": {
   "codemirror_mode": {
    "name": "ipython",
    "version": 3
   },
   "file_extension": ".py",
   "mimetype": "text/x-python",
   "name": "python",
   "nbconvert_exporter": "python",
   "pygments_lexer": "ipython3",
   "version": "3.10.10"
  }
 },
 "nbformat": 4,
 "nbformat_minor": 2
}
