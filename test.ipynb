{
 "cells": [
  {
   "cell_type": "code",
   "execution_count": 1,
   "metadata": {},
   "outputs": [],
   "source": [
    "from infra import *\n",
    "from eval import *\n",
    "from scheds import *\n",
    "\n",
    "from contextlib import redirect_stdout\n",
    "from decimal import Decimal"
   ]
  },
  {
   "cell_type": "code",
   "execution_count": 2,
   "metadata": {},
   "outputs": [],
   "source": [
    "def get_tot_lat(fname):\n",
    "  with open(fname, \"r\") as f:\n",
    "    tot_lat = 0\n",
    "    for row in f:\n",
    "      row = row.split(\" \")\n",
    "      if len(row) != 3 or not row[0].startswith(\"Latency\"):\n",
    "        print(\"error line\", row)\n",
    "        continue\n",
    "      tot_lat += int(row[-1])\n",
    "\n",
    "  return tot_lat"
   ]
  },
  {
   "cell_type": "code",
   "execution_count": 5,
   "metadata": {},
   "outputs": [
    {
     "name": "stdout",
     "output_type": "stream",
     "text": [
      "7370 7135 7448 3386 7398 3238 8045 8285 2876 7805 "
     ]
    }
   ],
   "source": [
    "\n",
    "# NAMING CONVENTION:\n",
    "# {workload type}-load-{load}-{total_steps}\n",
    "\n",
    "for _ in range(10):\n",
    "    workload_type = \"unif\"\n",
    "    # note: these are strings just so naming is easier\n",
    "    load = \"1e3\"\n",
    "    total_steps = \"1e5\"\n",
    "\n",
    "    fname = f\"{workload_type}-load-{load}-{total_steps}\"\n",
    "    full_fname = f\"./data/{fname}.txt\"\n",
    "\n",
    "    with open(full_fname, \"w+\") as f:\n",
    "        with redirect_stdout(f):\n",
    "            run_test(scheduler=NaiveScheduler, load=int(float(load)))\n",
    "\n",
    "    # print(full_fname)\n",
    "    print(get_tot_lat(full_fname), end=\" \")"
   ]
  },
  {
   "cell_type": "code",
   "execution_count": 4,
   "metadata": {},
   "outputs": [],
   "source": [
    "# import glob\n",
    "\n",
    "# tests = glob.glob(\"./data/*.txt\")\n",
    "# for test in tests:\n",
    "#   print(test)\n",
    "#   print(get_tot_lat(test))"
   ]
  }
 ],
 "metadata": {
  "kernelspec": {
   "display_name": "Python 3",
   "language": "python",
   "name": "python3"
  },
  "language_info": {
   "codemirror_mode": {
    "name": "ipython",
    "version": 3
   },
   "file_extension": ".py",
   "mimetype": "text/x-python",
   "name": "python",
   "nbconvert_exporter": "python",
   "pygments_lexer": "ipython3",
   "version": "3.10.5"
  }
 },
 "nbformat": 4,
 "nbformat_minor": 2
}
