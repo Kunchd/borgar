{
 "cells": [
  {
   "cell_type": "code",
   "execution_count": 1,
   "metadata": {},
   "outputs": [],
   "source": [
    "from infra import *\n",
    "from eval import *\n",
    "from scheds import *\n",
    "\n",
    "from contextlib import redirect_stdout"
   ]
  },
  {
   "cell_type": "code",
   "execution_count": 2,
   "metadata": {},
   "outputs": [
    {
     "name": "stdout",
     "output_type": "stream",
     "text": [
      "init\n",
      "-----------Cell-----------\n",
      "Machines: [\n",
      "Machine: [cores free: 1, mem_free: 6]\n",
      "Jobs: []\n",
      ", \n",
      "Machine: [cores free: 1, mem_free: 6]\n",
      "Jobs: []\n",
      ", \n",
      "Machine: [cores free: 12, mem_free: 64]\n",
      "Jobs: []\n",
      "]sche queue: [Job 0: compute left=2, cores: 1, Job 1: compute left=2, cores: 1, Job 2: compute left=2, cores: 2, Job 3: compute left=2, cores: 3]\n",
      "--------------------------\n",
      "\n",
      "Iter 0\n",
      "-----------Cell-----------\n",
      "Machines: [\n",
      "Machine: [cores free: 1, mem_free: 6]\n",
      "Jobs: []\n",
      ", \n",
      "Machine: [cores free: 1, mem_free: 6]\n",
      "Jobs: []\n",
      ", \n",
      "Machine: [cores free: 5, mem_free: 48]\n",
      "Jobs: [Job 0: compute left=0.2857142857142858, cores: 1, Job 1: compute left=0.2857142857142858, cores: 1, Job 2: compute left=0.2857142857142858, cores: 2, Job 3: compute left=0.2857142857142858, cores: 3]\n",
      "]sche queue: []\n",
      "--------------------------\n",
      "\n",
      "Latency 3: 2\n",
      "Latency 2: 2\n",
      "Latency 1: 2\n",
      "Latency 0: 2\n",
      "Iter 1\n",
      "-----------Cell-----------\n",
      "Machines: [\n",
      "Machine: [cores free: 1, mem_free: 6]\n",
      "Jobs: []\n",
      ", \n",
      "Machine: [cores free: 1, mem_free: 6]\n",
      "Jobs: []\n",
      ", \n",
      "Machine: [cores free: 12, mem_free: 64]\n",
      "Jobs: []\n",
      "]sche queue: []\n",
      "--------------------------\n",
      "\n",
      "Iter 2\n",
      "-----------Cell-----------\n",
      "Machines: [\n",
      "Machine: [cores free: 1, mem_free: 6]\n",
      "Jobs: []\n",
      ", \n",
      "Machine: [cores free: 1, mem_free: 6]\n",
      "Jobs: []\n",
      ", \n",
      "Machine: [cores free: 12, mem_free: 64]\n",
      "Jobs: []\n",
      "]sche queue: []\n",
      "--------------------------\n"
     ]
    }
   ],
   "source": [
    "# Test basic functionality\n",
    "test_cell = Cell(EPVMScheduler)\n",
    "\n",
    "test_cell.add_machine(Machine(6, 1))\n",
    "test_cell.add_machine(Machine(6, 1))\n",
    "test_cell.add_machine(Machine(64, 12))\n",
    "\n",
    "for i in range(4):\n",
    "    test_cell.queue_job(Job(f\"{i}\", 4, max(i, 1), 2, 0))\n",
    "\n",
    "\n",
    "def print_machines(cell):\n",
    "    for m in cell.machines:\n",
    "        print(m)\n",
    "\n",
    "print(\"init\")\n",
    "print(test_cell)\n",
    "print()\n",
    "test_cell.forward(0)\n",
    "print(\"Iter 0\")\n",
    "print(test_cell)\n",
    "print()\n",
    "test_cell.forward(1)\n",
    "print(\"Iter 1\")\n",
    "print(test_cell)\n",
    "print()\n",
    "test_cell.forward(2)\n",
    "print(\"Iter 2\")\n",
    "print(test_cell)"
   ]
  },
  {
   "cell_type": "code",
   "execution_count": 3,
   "metadata": {},
   "outputs": [],
   "source": [
    "def get_tot_lat(fname):\n",
    "  with open(fname, \"r\") as f:\n",
    "    tot_lat = 0\n",
    "    for row in f:\n",
    "      row = row.split(\" \")\n",
    "      if len(row) != 3 or not row[0].startswith(\"Latency\"):\n",
    "        print(\"error line\", row)\n",
    "        continue\n",
    "      tot_lat += int(row[-1])\n",
    "\n",
    "  return tot_lat"
   ]
  },
  {
   "cell_type": "code",
   "execution_count": 5,
   "metadata": {},
   "outputs": [
    {
     "name": "stdout",
     "output_type": "stream",
     "text": [
      "406824255 409727082 401306099 410421087 "
     ]
    },
    {
     "ename": "KeyboardInterrupt",
     "evalue": "",
     "output_type": "error",
     "traceback": [
      "\u001b[0;31m---------------------------------------------------------------------------\u001b[0m",
      "\u001b[0;31mKeyboardInterrupt\u001b[0m                         Traceback (most recent call last)",
      "Cell \u001b[0;32mIn[5], line 16\u001b[0m\n\u001b[1;32m     14\u001b[0m \u001b[38;5;28;01mwith\u001b[39;00m \u001b[38;5;28mopen\u001b[39m(full_fname, \u001b[38;5;124m\"\u001b[39m\u001b[38;5;124mw+\u001b[39m\u001b[38;5;124m\"\u001b[39m) \u001b[38;5;28;01mas\u001b[39;00m f:\n\u001b[1;32m     15\u001b[0m     \u001b[38;5;28;01mwith\u001b[39;00m redirect_stdout(f):\n\u001b[0;32m---> 16\u001b[0m         \u001b[43mrun_test\u001b[49m\u001b[43m(\u001b[49m\n\u001b[1;32m     17\u001b[0m \u001b[43m            \u001b[49m\u001b[43mscheduler\u001b[49m\u001b[38;5;241;43m=\u001b[39;49m\u001b[43mEPVMScheduler\u001b[49m\u001b[43m,\u001b[49m\n\u001b[1;32m     18\u001b[0m \u001b[43m            \u001b[49m\u001b[43mload\u001b[49m\u001b[38;5;241;43m=\u001b[39;49m\u001b[38;5;28;43mint\u001b[39;49m\u001b[43m(\u001b[49m\u001b[38;5;28;43mfloat\u001b[39;49m\u001b[43m(\u001b[49m\u001b[43mload\u001b[49m\u001b[43m)\u001b[49m\u001b[43m)\u001b[49m\u001b[43m,\u001b[49m\n\u001b[1;32m     19\u001b[0m \u001b[43m            \u001b[49m\u001b[43mmachine_config\u001b[49m\u001b[38;5;241;43m=\u001b[39;49m\u001b[43mmach_config\u001b[49m\u001b[43m,\u001b[49m\n\u001b[1;32m     20\u001b[0m \u001b[43m            \u001b[49m\u001b[43mtotal_steps\u001b[49m\u001b[38;5;241;43m=\u001b[39;49m\u001b[38;5;28;43mint\u001b[39;49m\u001b[43m(\u001b[49m\u001b[38;5;28;43mfloat\u001b[39;49m\u001b[43m(\u001b[49m\u001b[43mtotal_steps\u001b[49m\u001b[43m)\u001b[49m\u001b[43m)\u001b[49m\n\u001b[1;32m     21\u001b[0m \u001b[43m        \u001b[49m\u001b[43m)\u001b[49m\n\u001b[1;32m     23\u001b[0m \u001b[38;5;66;03m# print(full_fname)\u001b[39;00m\n\u001b[1;32m     24\u001b[0m \u001b[38;5;28mprint\u001b[39m(get_tot_lat(full_fname), end\u001b[38;5;241m=\u001b[39m\u001b[38;5;124m\"\u001b[39m\u001b[38;5;124m \u001b[39m\u001b[38;5;124m\"\u001b[39m)\n",
      "File \u001b[0;32m~/pacmon/eval.py:74\u001b[0m, in \u001b[0;36mrun_test\u001b[0;34m(load, machine_config, job_distr, workload_type, scheduler, total_steps, num_machines)\u001b[0m\n\u001b[1;32m     71\u001b[0m \u001b[38;5;66;03m# check if we have unfinished jobs at the end - if so, keep running to finish them\u001b[39;00m\n\u001b[1;32m     72\u001b[0m \u001b[38;5;66;03m# print(\"Unfinished jobs, keep running\", file=sys.stderr)\u001b[39;00m\n\u001b[1;32m     73\u001b[0m \u001b[38;5;28;01mwhile\u001b[39;00m cell\u001b[38;5;241m.\u001b[39mis_inactive():\n\u001b[0;32m---> 74\u001b[0m   \u001b[43mcell\u001b[49m\u001b[38;5;241;43m.\u001b[39;49m\u001b[43mforward\u001b[49m\u001b[43m(\u001b[49m\u001b[43mi\u001b[49m\u001b[43m)\u001b[49m\n\u001b[1;32m     75\u001b[0m   i \u001b[38;5;241m+\u001b[39m\u001b[38;5;241m=\u001b[39m \u001b[38;5;241m1\u001b[39m\n",
      "File \u001b[0;32m~/pacmon/infra.py:92\u001b[0m, in \u001b[0;36mCell.forward\u001b[0;34m(self, t)\u001b[0m\n\u001b[1;32m     90\u001b[0m \u001b[38;5;28;01mdef\u001b[39;00m \u001b[38;5;21mforward\u001b[39m(\u001b[38;5;28mself\u001b[39m, t):\n\u001b[1;32m     91\u001b[0m   \u001b[38;5;66;03m# run scheduler - assign things to machines\u001b[39;00m\n\u001b[0;32m---> 92\u001b[0m   \u001b[38;5;28;43mself\u001b[39;49m\u001b[38;5;241;43m.\u001b[39;49m\u001b[43msched\u001b[49m\u001b[38;5;241;43m.\u001b[39;49m\u001b[43mforward\u001b[49m\u001b[43m(\u001b[49m\u001b[38;5;28;43mself\u001b[39;49m\u001b[38;5;241;43m.\u001b[39;49m\u001b[43mmachines\u001b[49m\u001b[43m,\u001b[49m\u001b[43m \u001b[49m\u001b[38;5;28;43mself\u001b[39;49m\u001b[38;5;241;43m.\u001b[39;49m\u001b[43msched_queue\u001b[49m\u001b[43m)\u001b[49m\n\u001b[1;32m     94\u001b[0m   \u001b[38;5;66;03m# Then run forward on each machine\u001b[39;00m\n\u001b[1;32m     95\u001b[0m   \u001b[38;5;28;01mfor\u001b[39;00m machine \u001b[38;5;129;01min\u001b[39;00m \u001b[38;5;28mself\u001b[39m\u001b[38;5;241m.\u001b[39mmachines:\n",
      "File \u001b[0;32m~/pacmon/scheds.py:64\u001b[0m, in \u001b[0;36mEPVMScheduler.forward\u001b[0;34m(machines, sched_queue)\u001b[0m\n\u001b[1;32m     61\u001b[0m current_cost \u001b[38;5;241m=\u001b[39m cost(\u001b[38;5;28mlen\u001b[39m(machines), existing_util, existing_util \u001b[38;5;241m-\u001b[39m job_util)\n\u001b[1;32m     63\u001b[0m \u001b[38;5;66;03m# pick from a random subset of machines\u001b[39;00m\n\u001b[0;32m---> 64\u001b[0m samples \u001b[38;5;241m=\u001b[39m \u001b[43mrandom\u001b[49m\u001b[38;5;241;43m.\u001b[39;49m\u001b[43msample\u001b[49m\u001b[43m(\u001b[49m\u001b[43mmachines\u001b[49m\u001b[43m,\u001b[49m\u001b[43m \u001b[49m\u001b[38;5;28;43mint\u001b[39;49m\u001b[43m(\u001b[49m\u001b[38;5;241;43m0.25\u001b[39;49m\u001b[43m \u001b[49m\u001b[38;5;241;43m*\u001b[39;49m\u001b[43m \u001b[49m\u001b[38;5;28;43mlen\u001b[39;49m\u001b[43m(\u001b[49m\u001b[43mmachines\u001b[49m\u001b[43m)\u001b[49m\u001b[43m)\u001b[49m\u001b[43m)\u001b[49m\n\u001b[1;32m     65\u001b[0m min_cost \u001b[38;5;241m=\u001b[39m current_cost\n\u001b[1;32m     66\u001b[0m machine_pick \u001b[38;5;241m=\u001b[39m \u001b[38;5;241m-\u001b[39m\u001b[38;5;241m1\u001b[39m\n",
      "File \u001b[0;32m~/miniconda3/lib/python3.10/random.py:492\u001b[0m, in \u001b[0;36mRandom.sample\u001b[0;34m(self, population, k, counts)\u001b[0m\n\u001b[1;32m    490\u001b[0m pool \u001b[38;5;241m=\u001b[39m \u001b[38;5;28mlist\u001b[39m(population)\n\u001b[1;32m    491\u001b[0m \u001b[38;5;28;01mfor\u001b[39;00m i \u001b[38;5;129;01min\u001b[39;00m \u001b[38;5;28mrange\u001b[39m(k):\n\u001b[0;32m--> 492\u001b[0m     j \u001b[38;5;241m=\u001b[39m \u001b[43mrandbelow\u001b[49m\u001b[43m(\u001b[49m\u001b[43mn\u001b[49m\u001b[43m \u001b[49m\u001b[38;5;241;43m-\u001b[39;49m\u001b[43m \u001b[49m\u001b[43mi\u001b[49m\u001b[43m)\u001b[49m\n\u001b[1;32m    493\u001b[0m     result[i] \u001b[38;5;241m=\u001b[39m pool[j]\n\u001b[1;32m    494\u001b[0m     pool[j] \u001b[38;5;241m=\u001b[39m pool[n \u001b[38;5;241m-\u001b[39m i \u001b[38;5;241m-\u001b[39m \u001b[38;5;241m1\u001b[39m]  \u001b[38;5;66;03m# move non-selected item into vacancy\u001b[39;00m\n",
      "File \u001b[0;32m~/miniconda3/lib/python3.10/random.py:245\u001b[0m, in \u001b[0;36mRandom._randbelow_with_getrandbits\u001b[0;34m(self, n)\u001b[0m\n\u001b[1;32m    243\u001b[0m     \u001b[38;5;28;01mreturn\u001b[39;00m \u001b[38;5;241m0\u001b[39m\n\u001b[1;32m    244\u001b[0m getrandbits \u001b[38;5;241m=\u001b[39m \u001b[38;5;28mself\u001b[39m\u001b[38;5;241m.\u001b[39mgetrandbits\n\u001b[0;32m--> 245\u001b[0m k \u001b[38;5;241m=\u001b[39m \u001b[43mn\u001b[49m\u001b[38;5;241;43m.\u001b[39;49m\u001b[43mbit_length\u001b[49m\u001b[43m(\u001b[49m\u001b[43m)\u001b[49m  \u001b[38;5;66;03m# don't use (n-1) here because n can be 1\u001b[39;00m\n\u001b[1;32m    246\u001b[0m r \u001b[38;5;241m=\u001b[39m getrandbits(k)  \u001b[38;5;66;03m# 0 <= r < 2**k\u001b[39;00m\n\u001b[1;32m    247\u001b[0m \u001b[38;5;28;01mwhile\u001b[39;00m r \u001b[38;5;241m>\u001b[39m\u001b[38;5;241m=\u001b[39m n:\n",
      "\u001b[0;31mKeyboardInterrupt\u001b[0m: "
     ]
    }
   ],
   "source": [
    "\n",
    "# NAMING CONVENTION:\n",
    "# {workload type}-load-{load}-{total_steps}\n",
    "\n",
    "for _ in range(10):\n",
    "    workload_type = \"unif\"\n",
    "    # note: these are strings just so naming is easier\n",
    "    load = \"100000\"\n",
    "    total_steps = \"1000\"\n",
    "    mach_config = \"./config/mach-100.txt\"\n",
    "\n",
    "    fname = f\"{workload_type}-load-{load}-{total_steps}\"\n",
    "    full_fname = f\"./data/{fname}.txt\"\n",
    "\n",
    "    with open(full_fname, \"w+\") as f:\n",
    "        with redirect_stdout(f):\n",
    "            run_test(\n",
    "                scheduler=EPVMScheduler,\n",
    "                load=int(float(load)),\n",
    "                machine_config=mach_config,\n",
    "                total_steps=int(float(total_steps))\n",
    "            )\n",
    "\n",
    "    # print(full_fname)\n",
    "    print(get_tot_lat(full_fname), end=\" \")"
   ]
  },
  {
   "cell_type": "code",
   "execution_count": null,
   "metadata": {},
   "outputs": [],
   "source": [
    "# import glob\n",
    "\n",
    "# tests = glob.glob(\"./data/*.txt\")\n",
    "# for test in tests:\n",
    "#   print(test)\n",
    "#   print(get_tot_lat(test))"
   ]
  }
 ],
 "metadata": {
  "kernelspec": {
   "display_name": "Python 3",
   "language": "python",
   "name": "python3"
  },
  "language_info": {
   "codemirror_mode": {
    "name": "ipython",
    "version": 3
   },
   "file_extension": ".py",
   "mimetype": "text/x-python",
   "name": "python",
   "nbconvert_exporter": "python",
   "pygments_lexer": "ipython3",
   "version": "3.10.10"
  }
 },
 "nbformat": 4,
 "nbformat_minor": 2
}
