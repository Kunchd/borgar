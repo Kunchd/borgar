{
 "cells": [
  {
   "cell_type": "code",
   "execution_count": 1,
   "metadata": {},
   "outputs": [],
   "source": [
    "from scipy.stats import beta\n",
    "\n",
    "import numpy as np\n",
    "from matplotlib import pyplot as plt"
   ]
  },
  {
   "cell_type": "code",
   "execution_count": 2,
   "metadata": {},
   "outputs": [],
   "source": [
    "def gen_bursty_workload(total_steps):\n",
    "  a, b = 3, 5\n",
    "  loc = 0\n",
    "  scale = 20\n",
    "\n",
    "  beta_dist = beta(a=a, b=b, loc=loc, scale=scale)\n",
    "\n",
    "  x = np.linspace(0, total_steps-1, total_steps)\n",
    "  y = beta_dist.pdf(x)\n",
    "  np.random.shuffle(y)\n",
    "  # plt.plot(x, y)\n",
    "  # plt.show()\n",
    "  return y"
   ]
  },
  {
   "cell_type": "code",
   "execution_count": 3,
   "metadata": {},
   "outputs": [],
   "source": [
    "total_steps = 1000"
   ]
  },
  {
   "cell_type": "code",
   "execution_count": 4,
   "metadata": {},
   "outputs": [
    {
     "name": "stdout",
     "output_type": "stream",
     "text": [
      "0.9999781640625003 1000\n",
      "0.9999781640625002 1000\n",
      "0.9999781640625003 1000\n",
      "0.9999781640625002 1000\n",
      "0.9999781640625001 1000\n",
      "0.9999781640625002 1000\n",
      "0.9999781640625002 1000\n",
      "0.9999781640625003 1000\n",
      "0.9999781640625002 1000\n",
      "0.9999781640625 1000\n"
     ]
    }
   ],
   "source": [
    "for i in range(10):\n",
    "  y = gen_bursty_workload(total_steps)\n",
    "  print(sum(y), len(y))\n",
    "  np.savetxt(f\"bursty-{total_steps}-{i}.txt\", y)"
   ]
  }
 ],
 "metadata": {
  "kernelspec": {
   "display_name": "Python 3",
   "language": "python",
   "name": "python3"
  },
  "language_info": {
   "codemirror_mode": {
    "name": "ipython",
    "version": 3
   },
   "file_extension": ".py",
   "mimetype": "text/x-python",
   "name": "python",
   "nbconvert_exporter": "python",
   "pygments_lexer": "ipython3",
   "version": "3.10.10"
  }
 },
 "nbformat": 4,
 "nbformat_minor": 2
}
