{
 "cells": [
  {
   "cell_type": "code",
   "execution_count": 1,
   "metadata": {},
   "outputs": [],
   "source": [
    "from matplotlib import pyplot as plt\n",
    "import glob\n",
    "import re"
   ]
  },
  {
   "cell_type": "code",
   "execution_count": 16,
   "metadata": {},
   "outputs": [],
   "source": [
    "def plot(dirname, type=\"unif\"):\n",
    "  tests = glob.glob(f\"{dirname}/{type}*.txt\")\n",
    "  print(tests)\n",
    "\n",
    "  loads = []\n",
    "  avg_lats = []\n",
    "\n",
    "  for test in tests:\n",
    "    test_params = test.split(\"-\")\n",
    "    load = int(float(test_params[2]))\n",
    "    total_step = int(float(test_params[-1].split(\".\")[0]))\n",
    "    print(test, load, total_step)\n",
    "\n",
    "    with open(test, \"r\") as f:\n",
    "      tot_lat = 0\n",
    "      for row in f:\n",
    "        row = row.split(\" \")\n",
    "        if len(row) != 3 or not row[0].startswith(\"Latency\"):\n",
    "          print(\"error line\", row)\n",
    "          continue\n",
    "        tot_lat += int(row[-1])\n",
    "      avg_lat = tot_lat / load\n",
    "      print(avg_lat)\n",
    "\n",
    "    loads.append(load)\n",
    "    avg_lats.append(avg_lat)\n",
    "\n",
    "  return loads, avg_lats\n",
    "\n"
   ]
  },
  {
   "cell_type": "code",
   "execution_count": 19,
   "metadata": {},
   "outputs": [
    {
     "name": "stdout",
     "output_type": "stream",
     "text": [
      "['./data\\\\unif-load-10000-100000.txt', './data\\\\unif-load-1e3-1e5.txt', './data\\\\unif-load-1e5-1e5.txt']\n",
      "./data\\unif-load-10000-100000.txt 10000 100000\n",
      "6.4844\n",
      "./data\\unif-load-1e3-1e5.txt 1000 100000\n",
      "6.655\n",
      "./data\\unif-load-1e5-1e5.txt 100000 100000\n",
      "7.45612\n",
      "[10000, 1000, 100000] [6.4844, 6.655, 7.45612]\n"
     ]
    }
   ],
   "source": [
    "loads, avg_lats = plot(\"./data\")\n",
    "print(loads, avg_lats)"
   ]
  },
  {
   "cell_type": "code",
   "execution_count": 21,
   "metadata": {},
   "outputs": [
    {
     "data": {
      "image/png": "[encoded data removed]",
      "text/plain": [
       "<Figure size 432x288 with 1 Axes>"
      ]
     },
     "metadata": {
      "needs_background": "light"
     },
     "output_type": "display_data"
    }
   ],
   "source": [
    "plt.plot(loads, avg_lats)\n",
    "plt.xscale(\"log\")\n",
    "plt.xlabel(\"Loads (total number of jobs / timeframe 1e5)\")\n",
    "plt.ylabel(\"Average latency (steps)\")\n",
    "plt.show()"
   ]
  }
 ],
 "metadata": {
  "kernelspec": {
   "display_name": "Python 3",
   "language": "python",
   "name": "python3"
  },
  "language_info": {
   "codemirror_mode": {
    "name": "ipython",
    "version": 3
   },
   "file_extension": ".py",
   "mimetype": "text/x-python",
   "name": "python",
   "nbconvert_exporter": "python",
   "pygments_lexer": "ipython3",
   "version": "3.10.5"
  }
 },
 "nbformat": 4,
 "nbformat_minor": 2
}
