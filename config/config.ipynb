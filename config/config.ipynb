{
 "cells": [
  {
   "cell_type": "code",
   "execution_count": 1,
   "metadata": {},
   "outputs": [],
   "source": [
    "import numpy as np"
   ]
  },
  {
   "cell_type": "code",
   "execution_count": 3,
   "metadata": {},
   "outputs": [],
   "source": [
    "# For now, create and save machine configuration\n",
    "\n",
    "MACHINE_DISTR = {\n",
    "  \"small\": 60,\n",
    "  \"medium\": 20,\n",
    "  \"large\": 20\n",
    "}\n",
    "\n",
    "# CHANGE THIS\n",
    "num_machines = 100\n",
    "\n",
    "with open(f\"mach-{num_machines}.txt\", \"w+\") as f:\n",
    "    for _ in range(num_machines):\n",
    "      probab = np.random.uniform(0, 100)\n",
    "      if probab <= MACHINE_DISTR[\"small\"]:\n",
    "        f.write(\"small\\n\")\n",
    "      elif probab <= MACHINE_DISTR[\"small\"] + MACHINE_DISTR[\"medium\"]:\n",
    "        f.write(\"medium\\n\")\n",
    "      else:\n",
    "        f.write(\"large\\n\")"
   ]
  }
 ],
 "metadata": {
  "kernelspec": {
   "display_name": "Python 3",
   "language": "python",
   "name": "python3"
  },
  "language_info": {
   "codemirror_mode": {
    "name": "ipython",
    "version": 3
   },
   "file_extension": ".py",
   "mimetype": "text/x-python",
   "name": "python",
   "nbconvert_exporter": "python",
   "pygments_lexer": "ipython3",
   "version": "3.10.10"
  }
 },
 "nbformat": 4,
 "nbformat_minor": 2
}
